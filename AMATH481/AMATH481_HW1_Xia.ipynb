{
  "nbformat": 4,
  "nbformat_minor": 0,
  "metadata": {
    "colab": {
      "provenance": []
    },
    "kernelspec": {
      "name": "python3",
      "display_name": "Python 3"
    },
    "language_info": {
      "name": "python"
    }
  },
  "cells": [
    {
      "cell_type": "code",
      "execution_count": 1,
      "metadata": {
        "id": "_FFlcItkvI0-"
      },
      "outputs": [],
      "source": [
        "import numpy as np"
      ]
    },
    {
      "cell_type": "code",
      "source": [
        "#1\n",
        "x = np.array([-1.6])\n",
        "\n",
        "for j in range(0,100):\n",
        "    A1 = x[j]-(x[j] * np.sin(3*x[j])-np.exp(x[j]))/ (np.sin(3*x[j])+3*x[j]*np.cos(3*x[j])-np.exp(x[j]))\n",
        "    x = np.append(x, A1)\n",
        "    fc = x[j]*np.sin(3*x[j])-np.exp(x[j])\n",
        "\n",
        "    if abs(fc) < 1e-6:\n",
        "        break\n",
        "\n",
        "A1=x\n",
        "A1"
      ],
      "metadata": {
        "colab": {
          "base_uri": "https://localhost:8080/"
        },
        "id": "d_ealoeovCyh",
        "outputId": "ad3f7c4e-3fc1-42b7-e4ac-fa503be71bd6"
      },
      "execution_count": 2,
      "outputs": [
        {
          "output_type": "execute_result",
          "data": {
            "text/plain": [
              "array([-1.6       ,  3.19799514,  2.46440244,  1.2035359 ,  0.65020146,\n",
              "       -0.11692334, -0.66052349, -0.52192654, -0.56655274, -0.57074658,\n",
              "       -0.57078962, -0.57078962])"
            ]
          },
          "metadata": {},
          "execution_count": 2
        }
      ]
    },
    {
      "cell_type": "code",
      "source": [
        "np.shape(A1)"
      ],
      "metadata": {
        "colab": {
          "base_uri": "https://localhost:8080/"
        },
        "id": "124Rgu03-l7C",
        "outputId": "ae259b21-dd7e-4346-e205-2956be9bec77"
      },
      "execution_count": 3,
      "outputs": [
        {
          "output_type": "execute_result",
          "data": {
            "text/plain": [
              "(12,)"
            ]
          },
          "metadata": {},
          "execution_count": 3
        }
      ]
    },
    {
      "cell_type": "code",
      "source": [
        "xr = -0.4\n",
        "xl = -0.7\n",
        "A2 = []\n",
        "for i in range(0, 100):\n",
        "    xc = (xr+xl)/2\n",
        "    A2.append(xc)\n",
        "    fc = xc*np.sin(3*xc)-np.exp(xc)\n",
        "\n",
        "    if fc > 0:\n",
        "        xl = xc\n",
        "    else:\n",
        "        xr = xc\n",
        "\n",
        "    if (abs(fc) < 1e-6):\n",
        "        break\n",
        "\n",
        "A2"
      ],
      "metadata": {
        "colab": {
          "base_uri": "https://localhost:8080/"
        },
        "id": "pC2G4aAN4KIA",
        "outputId": "7e5121cb-0589-490b-f7eb-cb31c0aec7af"
      },
      "execution_count": 10,
      "outputs": [
        {
          "output_type": "execute_result",
          "data": {
            "text/plain": [
              "[-0.55,\n",
              " -0.625,\n",
              " -0.5875,\n",
              " -0.5687500000000001,\n",
              " -0.578125,\n",
              " -0.5734375,\n",
              " -0.5710937500000001,\n",
              " -0.5699218750000001,\n",
              " -0.5705078125,\n",
              " -0.57080078125,\n",
              " -0.570654296875,\n",
              " -0.5707275390625,\n",
              " -0.57076416015625,\n",
              " -0.570782470703125,\n",
              " -0.5707916259765625,\n",
              " -0.5707870483398438,\n",
              " -0.5707893371582031]"
            ]
          },
          "metadata": {},
          "execution_count": 10
        }
      ]
    },
    {
      "cell_type": "code",
      "source": [
        "A3 = np.array([j+1, i+1])\n",
        "A3"
      ],
      "metadata": {
        "colab": {
          "base_uri": "https://localhost:8080/"
        },
        "id": "h4Cu9-Az5IWX",
        "outputId": "545aaeb3-0f83-4ff7-c3c5-602b7696733a"
      },
      "execution_count": 5,
      "outputs": [
        {
          "output_type": "execute_result",
          "data": {
            "text/plain": [
              "array([11, 17])"
            ]
          },
          "metadata": {},
          "execution_count": 5
        }
      ]
    },
    {
      "cell_type": "code",
      "source": [
        "#2\n",
        "A = np.array([[1,2],[-1,1]])\n",
        "B = np.array([[2,0],[0,2]])\n",
        "C = np.array([[2,0,-3],[0,0,-1]])\n",
        "D = np.array([[1,2],[2,3],[-1,0]])\n",
        "x = np.array([1,0])\n",
        "y = np.array([0,1])\n",
        "z = np.array([1,2,-1])"
      ],
      "metadata": {
        "id": "6YnY_YSyyLYG"
      },
      "execution_count": 6,
      "outputs": []
    },
    {
      "cell_type": "code",
      "source": [
        "A4 = A+B\n",
        "A5 = 3*x - 4*y\n",
        "A6 = np.dot(A,x)\n",
        "x_minus_y = x-y\n",
        "A7 = np.dot(B,x_minus_y)\n",
        "A8 = np.dot(D,x)\n",
        "A9 = np.dot(D,y)+z\n",
        "A10 = np.dot(A,B)\n",
        "A11 = np.dot(B,C)\n",
        "A12 = np.dot(C,D)\n",
        "\n",
        "display(A4)\n",
        "display(A5)\n",
        "display(A6)\n",
        "display(A7)\n",
        "display(A8)\n",
        "display(A9)\n",
        "display(A10)\n",
        "display(A11)\n",
        "display(A12)"
      ],
      "metadata": {
        "colab": {
          "base_uri": "https://localhost:8080/",
          "height": 249
        },
        "id": "mXMVS7Toyw30",
        "outputId": "888f7d6a-c555-4d06-a153-ae78f2edb2d7"
      },
      "execution_count": 7,
      "outputs": [
        {
          "output_type": "display_data",
          "data": {
            "text/plain": [
              "array([[ 3,  2],\n",
              "       [-1,  3]])"
            ]
          },
          "metadata": {}
        },
        {
          "output_type": "display_data",
          "data": {
            "text/plain": [
              "array([ 3, -4])"
            ]
          },
          "metadata": {}
        },
        {
          "output_type": "display_data",
          "data": {
            "text/plain": [
              "array([ 1, -1])"
            ]
          },
          "metadata": {}
        },
        {
          "output_type": "display_data",
          "data": {
            "text/plain": [
              "array([ 2, -2])"
            ]
          },
          "metadata": {}
        },
        {
          "output_type": "display_data",
          "data": {
            "text/plain": [
              "array([ 1,  2, -1])"
            ]
          },
          "metadata": {}
        },
        {
          "output_type": "display_data",
          "data": {
            "text/plain": [
              "array([ 3,  5, -1])"
            ]
          },
          "metadata": {}
        },
        {
          "output_type": "display_data",
          "data": {
            "text/plain": [
              "array([[ 2,  4],\n",
              "       [-2,  2]])"
            ]
          },
          "metadata": {}
        },
        {
          "output_type": "display_data",
          "data": {
            "text/plain": [
              "array([[ 4,  0, -6],\n",
              "       [ 0,  0, -2]])"
            ]
          },
          "metadata": {}
        },
        {
          "output_type": "display_data",
          "data": {
            "text/plain": [
              "array([[5, 4],\n",
              "       [1, 0]])"
            ]
          },
          "metadata": {}
        }
      ]
    }
  ]
}